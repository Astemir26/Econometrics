{
 "cells": [
  {
   "cell_type": "code",
   "execution_count": 1,
   "metadata": {
    "id": "CIktzrAkuJjg"
   },
   "outputs": [],
   "source": [
    "import numpy as np\n",
    "import matplotlib.pyplot as plt\n",
    "import pandas as pd\n",
    "import math\n",
    "from keras.models import Sequential\n",
    "from keras.layers import Dense, LSTM, Dropout, GRU\n",
    "from keras.layers.convolutional import Conv1D\n",
    "from keras.layers.convolutional import MaxPooling1D\n",
    "from keras.layers import Flatten\n",
    "from keras.optimizers import SGD\n",
    "from sklearn.metrics import mean_squared_error\n",
    "from sklearn.preprocessing import MinMaxScaler"
   ]
  },
  {
   "cell_type": "code",
   "execution_count": 2,
   "metadata": {
    "colab": {
     "base_uri": "https://localhost:8080/",
     "height": 246
    },
    "id": "6SuY-hcUuJj8",
    "outputId": "9cb8b35d-c415-4fbc-8e47-5fe78c49c62d"
   },
   "outputs": [
    {
     "name": "stdout",
     "output_type": "stream",
     "text": [
      "Drive already mounted at /content/drive; to attempt to forcibly remount, call drive.mount(\"/content/drive\", force_remount=True).\n"
     ]
    },
    {
     "data": {
      "text/html": [
       "<div>\n",
       "<style scoped>\n",
       "    .dataframe tbody tr th:only-of-type {\n",
       "        vertical-align: middle;\n",
       "    }\n",
       "\n",
       "    .dataframe tbody tr th {\n",
       "        vertical-align: top;\n",
       "    }\n",
       "\n",
       "    .dataframe thead th {\n",
       "        text-align: right;\n",
       "    }\n",
       "</style>\n",
       "<table border=\"1\" class=\"dataframe\">\n",
       "  <thead>\n",
       "    <tr style=\"text-align: right;\">\n",
       "      <th></th>\n",
       "      <th>Open</th>\n",
       "      <th>High</th>\n",
       "      <th>Low</th>\n",
       "      <th>Close</th>\n",
       "      <th>Volume</th>\n",
       "      <th>Name</th>\n",
       "    </tr>\n",
       "    <tr>\n",
       "      <th>Date</th>\n",
       "      <th></th>\n",
       "      <th></th>\n",
       "      <th></th>\n",
       "      <th></th>\n",
       "      <th></th>\n",
       "      <th></th>\n",
       "    </tr>\n",
       "  </thead>\n",
       "  <tbody>\n",
       "    <tr>\n",
       "      <th>2006-01-03</th>\n",
       "      <td>82.45</td>\n",
       "      <td>82.55</td>\n",
       "      <td>80.81</td>\n",
       "      <td>82.06</td>\n",
       "      <td>11715200</td>\n",
       "      <td>IBM</td>\n",
       "    </tr>\n",
       "    <tr>\n",
       "      <th>2006-01-04</th>\n",
       "      <td>82.20</td>\n",
       "      <td>82.50</td>\n",
       "      <td>81.33</td>\n",
       "      <td>81.95</td>\n",
       "      <td>9840600</td>\n",
       "      <td>IBM</td>\n",
       "    </tr>\n",
       "    <tr>\n",
       "      <th>2006-01-05</th>\n",
       "      <td>81.40</td>\n",
       "      <td>82.90</td>\n",
       "      <td>81.00</td>\n",
       "      <td>82.50</td>\n",
       "      <td>7213500</td>\n",
       "      <td>IBM</td>\n",
       "    </tr>\n",
       "    <tr>\n",
       "      <th>2006-01-06</th>\n",
       "      <td>83.95</td>\n",
       "      <td>85.03</td>\n",
       "      <td>83.41</td>\n",
       "      <td>84.95</td>\n",
       "      <td>8197400</td>\n",
       "      <td>IBM</td>\n",
       "    </tr>\n",
       "    <tr>\n",
       "      <th>2006-01-09</th>\n",
       "      <td>84.10</td>\n",
       "      <td>84.25</td>\n",
       "      <td>83.38</td>\n",
       "      <td>83.73</td>\n",
       "      <td>6858200</td>\n",
       "      <td>IBM</td>\n",
       "    </tr>\n",
       "  </tbody>\n",
       "</table>\n",
       "</div>"
      ],
      "text/plain": [
       "             Open   High    Low  Close    Volume Name\n",
       "Date                                                 \n",
       "2006-01-03  82.45  82.55  80.81  82.06  11715200  IBM\n",
       "2006-01-04  82.20  82.50  81.33  81.95   9840600  IBM\n",
       "2006-01-05  81.40  82.90  81.00  82.50   7213500  IBM\n",
       "2006-01-06  83.95  85.03  83.41  84.95   8197400  IBM\n",
       "2006-01-09  84.10  84.25  83.38  83.73   6858200  IBM"
      ]
     },
     "execution_count": 2,
     "metadata": {
      "tags": []
     },
     "output_type": "execute_result"
    }
   ],
   "source": [
    "from google.colab import drive\n",
    "drive.mount('/content/drive')\n",
    "data = pd.read_csv('drive/MyDrive/ML/IBM.csv',index_col='Date', parse_dates=['Date'])\n",
    "#data = pd.read_csv('C:\\\\Users\\\\Астемир\\\\Desktop\\\\Эконометрика\\\\IBM.csv',index_col='Date', parse_dates=['Date'])\n",
    "data.head()"
   ]
  },
  {
   "cell_type": "code",
   "execution_count": 3,
   "metadata": {
    "colab": {
     "base_uri": "https://localhost:8080/"
    },
    "id": "PxfTUR1AuJkA",
    "outputId": "fc4241ac-d211-45ef-d22e-ca81fcb966d6"
   },
   "outputs": [
    {
     "data": {
      "text/plain": [
       "(3020, 6)"
      ]
     },
     "execution_count": 3,
     "metadata": {
      "tags": []
     },
     "output_type": "execute_result"
    }
   ],
   "source": [
    "data.shape"
   ]
  },
  {
   "cell_type": "code",
   "execution_count": 4,
   "metadata": {
    "id": "jKVDfK0KuJkB"
   },
   "outputs": [],
   "source": [
    "train = data[:'2016'].iloc[:,1:2].values\n",
    "test = data['2017':].iloc[:,1:2].values"
   ]
  },
  {
   "cell_type": "code",
   "execution_count": 5,
   "metadata": {
    "colab": {
     "base_uri": "https://localhost:8080/"
    },
    "id": "DUMcP5StuJkD",
    "outputId": "097c9765-e528-4ef4-c4ee-e0365b04bb84"
   },
   "outputs": [
    {
     "data": {
      "text/plain": [
       "(2769, 1)"
      ]
     },
     "execution_count": 5,
     "metadata": {
      "tags": []
     },
     "output_type": "execute_result"
    }
   ],
   "source": [
    "train.shape"
   ]
  },
  {
   "cell_type": "code",
   "execution_count": 6,
   "metadata": {
    "colab": {
     "base_uri": "https://localhost:8080/"
    },
    "id": "ab1y_nTnuJkG",
    "outputId": "bb3e979a-50cc-43f0-8f3d-17839047cbba"
   },
   "outputs": [
    {
     "data": {
      "text/plain": [
       "(251, 1)"
      ]
     },
     "execution_count": 6,
     "metadata": {
      "tags": []
     },
     "output_type": "execute_result"
    }
   ],
   "source": [
    "test.shape"
   ]
  },
  {
   "cell_type": "code",
   "execution_count": 7,
   "metadata": {
    "id": "SmLOPaUDuJkH"
   },
   "outputs": [],
   "source": [
    "# Функция отрисовки\n",
    "def plot_predictions(test,predicted):\n",
    "    plt.plot(test, color='blue',label='Real IBM Stock Price')\n",
    "    plt.plot(predicted, color='red',label='Predicted IBM Stock Price')\n",
    "    plt.title('IBM Stock Price Prediction')\n",
    "    plt.xlabel('Time')\n",
    "    plt.ylabel('IBM Stock Price')\n",
    "    plt.legend()\n",
    "    plt.show()"
   ]
  },
  {
   "cell_type": "code",
   "execution_count": 8,
   "metadata": {
    "id": "_FpopXmHuJkI"
   },
   "outputs": [],
   "source": [
    "def mse(test,predicted):\n",
    "    mse = mean_squared_error(test, predicted)\n",
    "    return mse"
   ]
  },
  {
   "cell_type": "code",
   "execution_count": 9,
   "metadata": {
    "id": "dLJ-O-PuuJkJ"
   },
   "outputs": [],
   "source": [
    "def mape(y_true, y_pred): \n",
    "    y_true, y_pred = np.array(y_true), np.array(y_pred)\n",
    "    return np.mean(np.abs((y_true - y_pred) / y_true)) * 100"
   ]
  },
  {
   "cell_type": "markdown",
   "metadata": {
    "id": "2RSvwv1CuJkK"
   },
   "source": [
    "Будем предсказывать по самой высокой цене за день (атрибут High)"
   ]
  },
  {
   "cell_type": "code",
   "execution_count": 10,
   "metadata": {
    "colab": {
     "base_uri": "https://localhost:8080/",
     "height": 285
    },
    "id": "nj2y9Y5OuJkL",
    "outputId": "5866e074-5708-46ee-b690-0a7549aa830a"
   },
   "outputs": [
    {
     "data": {
      "image/png": "[encoded data removed]",
      "text/plain": [
       "<Figure size 1152x288 with 1 Axes>"
      ]
     },
     "metadata": {
      "needs_background": "light",
      "tags": []
     },
     "output_type": "display_data"
    }
   ],
   "source": [
    "data[\"High\"][:'2016'].plot(figsize=(16,4),legend=True)\n",
    "data[\"High\"]['2017':].plot(figsize=(16,4),legend=True)\n",
    "plt.legend(['Training set (Before 2017)','Test set (2017 and beyond)'])\n",
    "plt.title('IBM stock price')\n",
    "plt.show()"
   ]
  },
  {
   "cell_type": "code",
   "execution_count": 11,
   "metadata": {
    "id": "kL7A_Q9TuJkN"
   },
   "outputs": [],
   "source": [
    "\n",
    "# Нормирование\n",
    "sc = MinMaxScaler(feature_range=(0,1))\n",
    "train_scaled = sc.fit_transform(train)\n",
    "X_train = []\n",
    "y_train = []\n",
    "for i in range(60,2769):\n",
    "    X_train.append(train_scaled[i-60:i,0])\n",
    "    y_train.append(train_scaled[i,0])\n",
    "X_train, y_train = np.array(X_train), np.array(y_train)"
   ]
  },
  {
   "cell_type": "code",
   "execution_count": 12,
   "metadata": {
    "id": "n3zExOEIuJkO"
   },
   "outputs": [],
   "source": [
    "X_train = np.reshape(X_train, (X_train.shape[0],X_train.shape[1],1))"
   ]
  },
  {
   "cell_type": "markdown",
   "metadata": {
    "id": "cRKx26qIuJkP"
   },
   "source": [
    "# LSTM"
   ]
  },
  {
   "cell_type": "code",
   "execution_count": 13,
   "metadata": {
    "colab": {
     "base_uri": "https://localhost:8080/"
    },
    "id": "xBm2kY8vuJkP",
    "outputId": "a6d4460c-4d54-4c64-a1a1-9bb4b89d4375"
   },
   "outputs": [
    {
     "name": "stdout",
     "output_type": "stream",
     "text": [
      "Epoch 1/50\n",
      "85/85 [==============================] - 8s 13ms/step - loss: 0.0706\n",
      "Epoch 2/50\n",
      "85/85 [==============================] - 1s 13ms/step - loss: 0.0060\n",
      "Epoch 3/50\n",
      "85/85 [==============================] - 1s 12ms/step - loss: 0.0047\n",
      "Epoch 4/50\n",
      "85/85 [==============================] - 1s 12ms/step - loss: 0.0040\n",
      "Epoch 5/50\n",
      "85/85 [==============================] - 1s 12ms/step - loss: 0.0043\n",
      "Epoch 6/50\n",
      "85/85 [==============================] - 1s 12ms/step - loss: 0.0037\n",
      "Epoch 7/50\n",
      "85/85 [==============================] - 1s 12ms/step - loss: 0.0041\n",
      "Epoch 8/50\n",
      "85/85 [==============================] - 1s 12ms/step - loss: 0.0038\n",
      "Epoch 9/50\n",
      "85/85 [==============================] - 1s 12ms/step - loss: 0.0033\n",
      "Epoch 10/50\n",
      "85/85 [==============================] - 1s 12ms/step - loss: 0.0040\n",
      "Epoch 11/50\n",
      "85/85 [==============================] - 1s 12ms/step - loss: 0.0031\n",
      "Epoch 12/50\n",
      "85/85 [==============================] - 1s 12ms/step - loss: 0.0029\n",
      "Epoch 13/50\n",
      "85/85 [==============================] - 1s 12ms/step - loss: 0.0029\n",
      "Epoch 14/50\n",
      "85/85 [==============================] - 1s 12ms/step - loss: 0.0027\n",
      "Epoch 15/50\n",
      "85/85 [==============================] - 1s 12ms/step - loss: 0.0026\n",
      "Epoch 16/50\n",
      "85/85 [==============================] - 1s 12ms/step - loss: 0.0027\n",
      "Epoch 17/50\n",
      "85/85 [==============================] - 1s 12ms/step - loss: 0.0027\n",
      "Epoch 18/50\n",
      "85/85 [==============================] - 1s 12ms/step - loss: 0.0025\n",
      "Epoch 19/50\n",
      "85/85 [==============================] - 1s 12ms/step - loss: 0.0023\n",
      "Epoch 20/50\n",
      "85/85 [==============================] - 1s 12ms/step - loss: 0.0022\n",
      "Epoch 21/50\n",
      "85/85 [==============================] - 1s 12ms/step - loss: 0.0023\n",
      "Epoch 22/50\n",
      "85/85 [==============================] - 1s 12ms/step - loss: 0.0024\n",
      "Epoch 23/50\n",
      "85/85 [==============================] - 1s 12ms/step - loss: 0.0023\n",
      "Epoch 24/50\n",
      "85/85 [==============================] - 1s 12ms/step - loss: 0.0021\n",
      "Epoch 25/50\n",
      "85/85 [==============================] - 1s 12ms/step - loss: 0.0020\n",
      "Epoch 26/50\n",
      "85/85 [==============================] - 1s 12ms/step - loss: 0.0019\n",
      "Epoch 27/50\n",
      "85/85 [==============================] - 1s 12ms/step - loss: 0.0019\n",
      "Epoch 28/50\n",
      "85/85 [==============================] - 1s 12ms/step - loss: 0.0020\n",
      "Epoch 29/50\n",
      "85/85 [==============================] - 1s 12ms/step - loss: 0.0018\n",
      "Epoch 30/50\n",
      "85/85 [==============================] - 1s 12ms/step - loss: 0.0019\n",
      "Epoch 31/50\n",
      "85/85 [==============================] - 1s 12ms/step - loss: 0.0016\n",
      "Epoch 32/50\n",
      "85/85 [==============================] - 1s 12ms/step - loss: 0.0019\n",
      "Epoch 33/50\n",
      "85/85 [==============================] - 1s 12ms/step - loss: 0.0018\n",
      "Epoch 34/50\n",
      "85/85 [==============================] - 1s 12ms/step - loss: 0.0016\n",
      "Epoch 35/50\n",
      "85/85 [==============================] - 1s 12ms/step - loss: 0.0016\n",
      "Epoch 36/50\n",
      "85/85 [==============================] - 1s 12ms/step - loss: 0.0016\n",
      "Epoch 37/50\n",
      "85/85 [==============================] - 1s 12ms/step - loss: 0.0016\n",
      "Epoch 38/50\n",
      "85/85 [==============================] - 1s 12ms/step - loss: 0.0016\n",
      "Epoch 39/50\n",
      "85/85 [==============================] - 1s 12ms/step - loss: 0.0015\n",
      "Epoch 40/50\n",
      "85/85 [==============================] - 1s 12ms/step - loss: 0.0015\n",
      "Epoch 41/50\n",
      "85/85 [==============================] - 1s 12ms/step - loss: 0.0014\n",
      "Epoch 42/50\n",
      "85/85 [==============================] - 1s 12ms/step - loss: 0.0014\n",
      "Epoch 43/50\n",
      "85/85 [==============================] - 1s 12ms/step - loss: 0.0014\n",
      "Epoch 44/50\n",
      "85/85 [==============================] - 1s 12ms/step - loss: 0.0013\n",
      "Epoch 45/50\n",
      "85/85 [==============================] - 1s 12ms/step - loss: 0.0014\n",
      "Epoch 46/50\n",
      "85/85 [==============================] - 1s 12ms/step - loss: 0.0014\n",
      "Epoch 47/50\n",
      "85/85 [==============================] - 1s 12ms/step - loss: 0.0013\n",
      "Epoch 48/50\n",
      "85/85 [==============================] - 1s 12ms/step - loss: 0.0013\n",
      "Epoch 49/50\n",
      "85/85 [==============================] - 1s 12ms/step - loss: 0.0013\n",
      "Epoch 50/50\n",
      "85/85 [==============================] - 1s 12ms/step - loss: 0.0011\n"
     ]
    },
    {
     "data": {
      "text/plain": [
       "<tensorflow.python.keras.callbacks.History at 0x7f22587d1c10>"
      ]
     },
     "execution_count": 13,
     "metadata": {
      "tags": []
     },
     "output_type": "execute_result"
    }
   ],
   "source": [
    "model_LSTM = Sequential()\n",
    "\n",
    "model_LSTM.add(LSTM(units=50, return_sequences=True, input_shape=(X_train.shape[1],1)))\n",
    "model_LSTM.add(Dropout(0.2))\n",
    "\n",
    "model_LSTM.add(LSTM(units=50, return_sequences=True))\n",
    "model_LSTM.add(Dropout(0.2))\n",
    "\n",
    "model_LSTM.add(LSTM(units=50, return_sequences=True))\n",
    "model_LSTM.add(Dropout(0.2))\n",
    "\n",
    "model_LSTM.add(LSTM(units=50))\n",
    "model_LSTM.add(Dropout(0.2))\n",
    "\n",
    "model_LSTM.add(Dense(units=1))\n",
    "\n",
    "\n",
    "model_LSTM.compile(optimizer='adam',loss='mean_squared_error')\n",
    "\n",
    "model_LSTM.fit(X_train,y_train,epochs=50,batch_size=32)"
   ]
  },
  {
   "cell_type": "code",
   "execution_count": 14,
   "metadata": {
    "id": "BpXEVV5cuJkR"
   },
   "outputs": [],
   "source": [
    "data_total = pd.concat((data[\"High\"][:'2016'],data[\"High\"]['2017':]),axis=0)\n",
    "inputs = data_total[len(data_total)-len(test) - 60:].values\n",
    "inputs = inputs.reshape(-1,1)\n",
    "inputs  = sc.transform(inputs)"
   ]
  },
  {
   "cell_type": "code",
   "execution_count": 15,
   "metadata": {
    "id": "RbhqA8DRuJkS"
   },
   "outputs": [],
   "source": [
    "X_test = []\n",
    "for i in range(60,311):\n",
    "    X_test.append(inputs[i-60:i,0])\n",
    "X_test = np.array(X_test)\n",
    "X_test = np.reshape(X_test, (X_test.shape[0],X_test.shape[1],1))\n",
    "predictions_LSTM = model_LSTM.predict(X_test)\n",
    "predictions_LSTM = sc.inverse_transform(predictions_LSTM)"
   ]
  },
  {
   "cell_type": "code",
   "execution_count": 16,
   "metadata": {
    "colab": {
     "base_uri": "https://localhost:8080/",
     "height": 295
    },
    "id": "ul73B4xiuJkS",
    "outputId": "3f2e9094-9ef2-4c8d-e8bf-02a8f5fecf18"
   },
   "outputs": [
    {
     "data": {
      "image/png": "[encoded data removed]",
      "text/plain": [
       "<Figure size 432x288 with 1 Axes>"
      ]
     },
     "metadata": {
      "needs_background": "light",
      "tags": []
     },
     "output_type": "display_data"
    }
   ],
   "source": [
    "plot_predictions(test,predictions_LSTM)"
   ]
  },
  {
   "cell_type": "code",
   "execution_count": 17,
   "metadata": {
    "colab": {
     "base_uri": "https://localhost:8080/"
    },
    "id": "LRjR3CFcuJkV",
    "outputId": "379c89ef-4047-4a0a-b96a-f6f706110ff6"
   },
   "outputs": [
    {
     "data": {
      "text/plain": [
       "5.674692958883383"
      ]
     },
     "execution_count": 17,
     "metadata": {
      "tags": []
     },
     "output_type": "execute_result"
    }
   ],
   "source": [
    "mse_LSTM = mse(test,predictions_LSTM)\n",
    "mse_LSTM"
   ]
  },
  {
   "cell_type": "code",
   "execution_count": 18,
   "metadata": {
    "colab": {
     "base_uri": "https://localhost:8080/"
    },
    "id": "wqyLqAb2uJkW",
    "outputId": "287dd41b-e440-41c0-9b72-730cee31564d"
   },
   "outputs": [
    {
     "data": {
      "text/plain": [
       "0.9920947591326456"
      ]
     },
     "execution_count": 18,
     "metadata": {
      "tags": []
     },
     "output_type": "execute_result"
    }
   ],
   "source": [
    "mape_LSTM = mape(test,predictions_LSTM)\n",
    "mape_LSTM"
   ]
  },
  {
   "cell_type": "markdown",
   "metadata": {
    "id": "zvqhco9LuJkX"
   },
   "source": [
    "# GRU"
   ]
  },
  {
   "cell_type": "code",
   "execution_count": 19,
   "metadata": {
    "colab": {
     "base_uri": "https://localhost:8080/"
    },
    "id": "w6wTxN3puJkX",
    "outputId": "a22f4d2e-d7ba-411c-9f39-0edc7de5eb3d"
   },
   "outputs": [
    {
     "name": "stdout",
     "output_type": "stream",
     "text": [
      "Epoch 1/50\n",
      "19/19 [==============================] - 5s 20ms/step - loss: 0.1615\n",
      "Epoch 2/50\n",
      "19/19 [==============================] - 0s 14ms/step - loss: 0.0487\n",
      "Epoch 3/50\n",
      "19/19 [==============================] - 0s 12ms/step - loss: 0.0162\n",
      "Epoch 4/50\n",
      "19/19 [==============================] - 0s 13ms/step - loss: 0.0050\n",
      "Epoch 5/50\n",
      "19/19 [==============================] - 0s 12ms/step - loss: 0.0043\n",
      "Epoch 6/50\n",
      "19/19 [==============================] - 0s 13ms/step - loss: 0.0037\n",
      "Epoch 7/50\n",
      "19/19 [==============================] - 0s 13ms/step - loss: 0.0037\n",
      "Epoch 8/50\n",
      "19/19 [==============================] - 0s 13ms/step - loss: 0.0039\n",
      "Epoch 9/50\n",
      "19/19 [==============================] - 0s 12ms/step - loss: 0.0036\n",
      "Epoch 10/50\n",
      "19/19 [==============================] - 0s 12ms/step - loss: 0.0036\n",
      "Epoch 11/50\n",
      "19/19 [==============================] - 0s 12ms/step - loss: 0.0032\n",
      "Epoch 12/50\n",
      "19/19 [==============================] - 0s 13ms/step - loss: 0.0032\n",
      "Epoch 13/50\n",
      "19/19 [==============================] - 0s 13ms/step - loss: 0.0033\n",
      "Epoch 14/50\n",
      "19/19 [==============================] - 0s 12ms/step - loss: 0.0029\n",
      "Epoch 15/50\n",
      "19/19 [==============================] - 0s 12ms/step - loss: 0.0029\n",
      "Epoch 16/50\n",
      "19/19 [==============================] - 0s 13ms/step - loss: 0.0027\n",
      "Epoch 17/50\n",
      "19/19 [==============================] - 0s 13ms/step - loss: 0.0029\n",
      "Epoch 18/50\n",
      "19/19 [==============================] - 0s 13ms/step - loss: 0.0029\n",
      "Epoch 19/50\n",
      "19/19 [==============================] - 0s 12ms/step - loss: 0.0030\n",
      "Epoch 20/50\n",
      "19/19 [==============================] - 0s 12ms/step - loss: 0.0026\n",
      "Epoch 21/50\n",
      "19/19 [==============================] - 0s 13ms/step - loss: 0.0025\n",
      "Epoch 22/50\n",
      "19/19 [==============================] - 0s 12ms/step - loss: 0.0027\n",
      "Epoch 23/50\n",
      "19/19 [==============================] - 0s 13ms/step - loss: 0.0027\n",
      "Epoch 24/50\n",
      "19/19 [==============================] - 0s 12ms/step - loss: 0.0026\n",
      "Epoch 25/50\n",
      "19/19 [==============================] - 0s 13ms/step - loss: 0.0024\n",
      "Epoch 26/50\n",
      "19/19 [==============================] - 0s 12ms/step - loss: 0.0025\n",
      "Epoch 27/50\n",
      "19/19 [==============================] - 0s 12ms/step - loss: 0.0025\n",
      "Epoch 28/50\n",
      "19/19 [==============================] - 0s 12ms/step - loss: 0.0027\n",
      "Epoch 29/50\n",
      "19/19 [==============================] - 0s 13ms/step - loss: 0.0026\n",
      "Epoch 30/50\n",
      "19/19 [==============================] - 0s 13ms/step - loss: 0.0023\n",
      "Epoch 31/50\n",
      "19/19 [==============================] - 0s 12ms/step - loss: 0.0023\n",
      "Epoch 32/50\n",
      "19/19 [==============================] - 0s 12ms/step - loss: 0.0023\n",
      "Epoch 33/50\n",
      "19/19 [==============================] - 0s 13ms/step - loss: 0.0023\n",
      "Epoch 34/50\n",
      "19/19 [==============================] - 0s 13ms/step - loss: 0.0022\n",
      "Epoch 35/50\n",
      "19/19 [==============================] - 0s 13ms/step - loss: 0.0021\n",
      "Epoch 36/50\n",
      "19/19 [==============================] - 0s 12ms/step - loss: 0.0022\n",
      "Epoch 37/50\n",
      "19/19 [==============================] - 0s 13ms/step - loss: 0.0022\n",
      "Epoch 38/50\n",
      "19/19 [==============================] - 0s 12ms/step - loss: 0.0023\n",
      "Epoch 39/50\n",
      "19/19 [==============================] - 0s 12ms/step - loss: 0.0022\n",
      "Epoch 40/50\n",
      "19/19 [==============================] - 0s 12ms/step - loss: 0.0020\n",
      "Epoch 41/50\n",
      "19/19 [==============================] - 0s 12ms/step - loss: 0.0021\n",
      "Epoch 42/50\n",
      "19/19 [==============================] - 0s 12ms/step - loss: 0.0020\n",
      "Epoch 43/50\n",
      "19/19 [==============================] - 0s 12ms/step - loss: 0.0021\n",
      "Epoch 44/50\n",
      "19/19 [==============================] - 0s 14ms/step - loss: 0.0021\n",
      "Epoch 45/50\n",
      "19/19 [==============================] - 0s 13ms/step - loss: 0.0022\n",
      "Epoch 46/50\n",
      "19/19 [==============================] - 0s 13ms/step - loss: 0.0021\n",
      "Epoch 47/50\n",
      "19/19 [==============================] - 0s 12ms/step - loss: 0.0022\n",
      "Epoch 48/50\n",
      "19/19 [==============================] - 0s 13ms/step - loss: 0.0021\n",
      "Epoch 49/50\n",
      "19/19 [==============================] - 0s 12ms/step - loss: 0.0022\n",
      "Epoch 50/50\n",
      "19/19 [==============================] - 0s 13ms/step - loss: 0.0022\n"
     ]
    },
    {
     "data": {
      "text/plain": [
       "<tensorflow.python.keras.callbacks.History at 0x7f22612b2910>"
      ]
     },
     "execution_count": 19,
     "metadata": {
      "tags": []
     },
     "output_type": "execute_result"
    }
   ],
   "source": [
    "model_GRU = Sequential()\n",
    "\n",
    "model_GRU.add(GRU(units=50, return_sequences=True, input_shape=(X_train.shape[1],1), activation='tanh'))\n",
    "model_GRU.add(Dropout(0.2))\n",
    "\n",
    "model_GRU.add(GRU(units=50, return_sequences=True, input_shape=(X_train.shape[1],1), activation='tanh'))\n",
    "model_GRU.add(Dropout(0.2))\n",
    "\n",
    "model_GRU.add(GRU(units=50, return_sequences=True, input_shape=(X_train.shape[1],1), activation='tanh'))\n",
    "model_GRU.add(Dropout(0.2))\n",
    "\n",
    "model_GRU.add(GRU(units=50, activation='tanh'))\n",
    "model_GRU.add(Dropout(0.2))\n",
    "\n",
    "model_GRU.add(Dense(units=1))\n",
    "\n",
    "model_GRU.compile(optimizer=SGD(lr=0.01, decay=1e-7, momentum=0.9, nesterov=False),loss='mean_squared_error')\n",
    "\n",
    "model_GRU.fit(X_train,y_train,epochs=50,batch_size=150)"
   ]
  },
  {
   "cell_type": "code",
   "execution_count": 20,
   "metadata": {
    "id": "z7blkXZ_uJka"
   },
   "outputs": [],
   "source": [
    "X_test = []\n",
    "for i in range(60,311):\n",
    "    X_test.append(inputs[i-60:i,0])\n",
    "X_test = np.array(X_test)\n",
    "X_test = np.reshape(X_test, (X_test.shape[0],X_test.shape[1],1))\n",
    "predictions_GRU = model_GRU.predict(X_test)\n",
    "predictions_GRU = sc.inverse_transform(predictions_GRU)"
   ]
  },
  {
   "cell_type": "code",
   "execution_count": 21,
   "metadata": {
    "colab": {
     "base_uri": "https://localhost:8080/",
     "height": 295
    },
    "id": "uBxwTfXjuJkd",
    "outputId": "73f15a32-f82b-4680-830c-a08671adb17b"
   },
   "outputs": [
    {
     "data": {
      "image/png": "[encoded data removed]",
      "text/plain": [
       "<Figure size 432x288 with 1 Axes>"
      ]
     },
     "metadata": {
      "needs_background": "light",
      "tags": []
     },
     "output_type": "display_data"
    }
   ],
   "source": [
    "plot_predictions(test,predictions_GRU)"
   ]
  },
  {
   "cell_type": "code",
   "execution_count": 22,
   "metadata": {
    "colab": {
     "base_uri": "https://localhost:8080/"
    },
    "id": "miFwpLLIuJkj",
    "outputId": "05c48027-55ba-41c9-d25b-c292c9fef0a9"
   },
   "outputs": [
    {
     "data": {
      "text/plain": [
       "10.61434360381049"
      ]
     },
     "execution_count": 22,
     "metadata": {
      "tags": []
     },
     "output_type": "execute_result"
    }
   ],
   "source": [
    "mse_GRU = mse(test,predictions_GRU)\n",
    "mse_GRU"
   ]
  },
  {
   "cell_type": "code",
   "execution_count": 23,
   "metadata": {
    "colab": {
     "base_uri": "https://localhost:8080/"
    },
    "id": "W-LOpr5TuJko",
    "outputId": "571fa2e5-1df5-46f2-e28c-56746b2e2b0b"
   },
   "outputs": [
    {
     "data": {
      "text/plain": [
       "1.4151990869006803"
      ]
     },
     "execution_count": 23,
     "metadata": {
      "tags": []
     },
     "output_type": "execute_result"
    }
   ],
   "source": [
    "mape_GRU = mape(test,predictions_GRU)\n",
    "mape_GRU"
   ]
  },
  {
   "cell_type": "markdown",
   "metadata": {
    "id": "s7co5dJYuJkr"
   },
   "source": [
    "# CNN"
   ]
  },
  {
   "cell_type": "code",
   "execution_count": 24,
   "metadata": {
    "colab": {
     "base_uri": "https://localhost:8080/"
    },
    "id": "WgLfRzUluJks",
    "outputId": "28d7ed47-0ddd-4656-d7c4-4c7c8761d9fb"
   },
   "outputs": [
    {
     "name": "stdout",
     "output_type": "stream",
     "text": [
      "Epoch 1/200\n",
      "85/85 [==============================] - 1s 5ms/step - loss: 0.0356\n",
      "Epoch 2/200\n",
      "85/85 [==============================] - 0s 3ms/step - loss: 0.0013\n",
      "Epoch 3/200\n",
      "85/85 [==============================] - 0s 3ms/step - loss: 8.1260e-04\n",
      "Epoch 4/200\n",
      "85/85 [==============================] - 0s 3ms/step - loss: 8.6514e-04\n",
      "Epoch 5/200\n",
      "85/85 [==============================] - 0s 3ms/step - loss: 8.1798e-04\n",
      "Epoch 6/200\n",
      "85/85 [==============================] - 0s 3ms/step - loss: 5.2428e-04\n",
      "Epoch 7/200\n",
      "85/85 [==============================] - 0s 3ms/step - loss: 5.8774e-04\n",
      "Epoch 8/200\n",
      "85/85 [==============================] - 0s 3ms/step - loss: 5.9296e-04\n",
      "Epoch 9/200\n",
      "85/85 [==============================] - 0s 3ms/step - loss: 6.6593e-04\n",
      "Epoch 10/200\n",
      "85/85 [==============================] - 0s 3ms/step - loss: 9.9520e-04\n",
      "Epoch 11/200\n",
      "85/85 [==============================] - 0s 3ms/step - loss: 5.3842e-04\n",
      "Epoch 12/200\n",
      "85/85 [==============================] - 0s 3ms/step - loss: 5.5887e-04\n",
      "Epoch 13/200\n",
      "85/85 [==============================] - 0s 3ms/step - loss: 5.4369e-04\n",
      "Epoch 14/200\n",
      "85/85 [==============================] - 0s 3ms/step - loss: 5.0302e-04\n",
      "Epoch 15/200\n",
      "85/85 [==============================] - 0s 3ms/step - loss: 6.8691e-04\n",
      "Epoch 16/200\n",
      "85/85 [==============================] - 0s 3ms/step - loss: 4.5465e-04\n",
      "Epoch 17/200\n",
      "85/85 [==============================] - 0s 3ms/step - loss: 5.4699e-04\n",
      "Epoch 18/200\n",
      "85/85 [==============================] - 0s 3ms/step - loss: 5.0137e-04\n",
      "Epoch 19/200\n",
      "85/85 [==============================] - 0s 3ms/step - loss: 4.9990e-04\n",
      "Epoch 20/200\n",
      "85/85 [==============================] - 0s 3ms/step - loss: 5.4719e-04\n",
      "Epoch 21/200\n",
      "85/85 [==============================] - 0s 3ms/step - loss: 4.5350e-04\n",
      "Epoch 22/200\n",
      "85/85 [==============================] - 0s 3ms/step - loss: 4.8178e-04\n",
      "Epoch 23/200\n",
      "85/85 [==============================] - 0s 3ms/step - loss: 4.0209e-04\n",
      "Epoch 24/200\n",
      "85/85 [==============================] - 0s 3ms/step - loss: 5.6055e-04\n",
      "Epoch 25/200\n",
      "85/85 [==============================] - 0s 3ms/step - loss: 4.5993e-04\n",
      "Epoch 26/200\n",
      "85/85 [==============================] - 0s 3ms/step - loss: 4.3915e-04\n",
      "Epoch 27/200\n",
      "85/85 [==============================] - 0s 3ms/step - loss: 4.2959e-04\n",
      "Epoch 28/200\n",
      "85/85 [==============================] - 0s 3ms/step - loss: 4.5292e-04\n",
      "Epoch 29/200\n",
      "85/85 [==============================] - 0s 3ms/step - loss: 3.8317e-04\n",
      "Epoch 30/200\n",
      "85/85 [==============================] - 0s 3ms/step - loss: 5.2894e-04\n",
      "Epoch 31/200\n",
      "85/85 [==============================] - 0s 3ms/step - loss: 3.4554e-04\n",
      "Epoch 32/200\n",
      "85/85 [==============================] - 0s 3ms/step - loss: 4.9975e-04\n",
      "Epoch 33/200\n",
      "85/85 [==============================] - 0s 3ms/step - loss: 4.0658e-04\n",
      "Epoch 34/200\n",
      "85/85 [==============================] - 0s 3ms/step - loss: 4.3245e-04\n",
      "Epoch 35/200\n",
      "85/85 [==============================] - 0s 3ms/step - loss: 4.6613e-04\n",
      "Epoch 36/200\n",
      "85/85 [==============================] - 0s 3ms/step - loss: 9.7651e-04\n",
      "Epoch 37/200\n",
      "85/85 [==============================] - 0s 3ms/step - loss: 5.2899e-04\n",
      "Epoch 38/200\n",
      "85/85 [==============================] - 0s 3ms/step - loss: 4.2159e-04\n",
      "Epoch 39/200\n",
      "85/85 [==============================] - 0s 3ms/step - loss: 4.1696e-04\n",
      "Epoch 40/200\n",
      "85/85 [==============================] - 0s 3ms/step - loss: 3.8522e-04\n",
      "Epoch 41/200\n",
      "85/85 [==============================] - 0s 3ms/step - loss: 3.6398e-04\n",
      "Epoch 42/200\n",
      "85/85 [==============================] - 0s 3ms/step - loss: 4.8676e-04\n",
      "Epoch 43/200\n",
      "85/85 [==============================] - 0s 3ms/step - loss: 4.7920e-04\n",
      "Epoch 44/200\n",
      "85/85 [==============================] - 0s 3ms/step - loss: 3.9734e-04\n",
      "Epoch 45/200\n",
      "85/85 [==============================] - 0s 3ms/step - loss: 3.7676e-04\n",
      "Epoch 46/200\n",
      "85/85 [==============================] - 0s 3ms/step - loss: 3.7654e-04\n",
      "Epoch 47/200\n",
      "85/85 [==============================] - 0s 3ms/step - loss: 5.5853e-04\n",
      "Epoch 48/200\n",
      "85/85 [==============================] - 0s 3ms/step - loss: 3.4486e-04\n",
      "Epoch 49/200\n",
      "85/85 [==============================] - 0s 3ms/step - loss: 3.8883e-04\n",
      "Epoch 50/200\n",
      "85/85 [==============================] - 0s 3ms/step - loss: 4.1007e-04\n",
      "Epoch 51/200\n",
      "85/85 [==============================] - 0s 3ms/step - loss: 3.6768e-04\n",
      "Epoch 52/200\n",
      "85/85 [==============================] - 0s 3ms/step - loss: 3.8412e-04\n",
      "Epoch 53/200\n",
      "85/85 [==============================] - 0s 3ms/step - loss: 4.2798e-04\n",
      "Epoch 54/200\n",
      "85/85 [==============================] - 0s 3ms/step - loss: 4.4502e-04\n",
      "Epoch 55/200\n",
      "85/85 [==============================] - 0s 3ms/step - loss: 3.7451e-04\n",
      "Epoch 56/200\n",
      "85/85 [==============================] - 0s 3ms/step - loss: 3.8475e-04\n",
      "Epoch 57/200\n",
      "85/85 [==============================] - 0s 3ms/step - loss: 4.1151e-04\n",
      "Epoch 58/200\n",
      "85/85 [==============================] - 0s 3ms/step - loss: 3.8573e-04\n",
      "Epoch 59/200\n",
      "85/85 [==============================] - 0s 3ms/step - loss: 3.4774e-04\n",
      "Epoch 60/200\n",
      "85/85 [==============================] - 0s 3ms/step - loss: 4.0037e-04\n",
      "Epoch 61/200\n",
      "85/85 [==============================] - 0s 3ms/step - loss: 3.7001e-04\n",
      "Epoch 62/200\n",
      "85/85 [==============================] - 0s 3ms/step - loss: 4.3340e-04\n",
      "Epoch 63/200\n",
      "85/85 [==============================] - 0s 3ms/step - loss: 4.3140e-04\n",
      "Epoch 64/200\n",
      "85/85 [==============================] - 0s 3ms/step - loss: 3.9473e-04\n",
      "Epoch 65/200\n",
      "85/85 [==============================] - 0s 3ms/step - loss: 3.6817e-04\n",
      "Epoch 66/200\n",
      "85/85 [==============================] - 0s 3ms/step - loss: 3.9696e-04\n",
      "Epoch 67/200\n",
      "85/85 [==============================] - 0s 3ms/step - loss: 5.0232e-04\n",
      "Epoch 68/200\n",
      "85/85 [==============================] - 0s 3ms/step - loss: 3.1700e-04\n",
      "Epoch 69/200\n",
      "85/85 [==============================] - 0s 3ms/step - loss: 4.4223e-04\n",
      "Epoch 70/200\n",
      "85/85 [==============================] - 0s 3ms/step - loss: 4.7136e-04\n",
      "Epoch 71/200\n",
      "85/85 [==============================] - 0s 3ms/step - loss: 4.5394e-04\n",
      "Epoch 72/200\n",
      "85/85 [==============================] - 0s 3ms/step - loss: 4.3089e-04\n",
      "Epoch 73/200\n",
      "85/85 [==============================] - 0s 3ms/step - loss: 3.1324e-04\n",
      "Epoch 74/200\n",
      "85/85 [==============================] - 0s 3ms/step - loss: 3.3865e-04\n",
      "Epoch 75/200\n",
      "85/85 [==============================] - 0s 3ms/step - loss: 3.4254e-04\n",
      "Epoch 76/200\n",
      "85/85 [==============================] - 0s 3ms/step - loss: 3.7120e-04\n",
      "Epoch 77/200\n",
      "85/85 [==============================] - 0s 3ms/step - loss: 3.3254e-04\n",
      "Epoch 78/200\n",
      "85/85 [==============================] - 0s 3ms/step - loss: 4.2962e-04\n",
      "Epoch 79/200\n",
      "85/85 [==============================] - 0s 3ms/step - loss: 3.6668e-04\n",
      "Epoch 80/200\n",
      "85/85 [==============================] - 0s 3ms/step - loss: 4.2209e-04\n",
      "Epoch 81/200\n",
      "85/85 [==============================] - 0s 3ms/step - loss: 3.5921e-04\n",
      "Epoch 82/200\n",
      "85/85 [==============================] - 0s 3ms/step - loss: 3.6786e-04\n",
      "Epoch 83/200\n",
      "85/85 [==============================] - 0s 3ms/step - loss: 4.9526e-04\n",
      "Epoch 84/200\n",
      "85/85 [==============================] - 0s 3ms/step - loss: 4.0655e-04\n",
      "Epoch 85/200\n",
      "85/85 [==============================] - 0s 3ms/step - loss: 3.6320e-04\n",
      "Epoch 86/200\n",
      "85/85 [==============================] - 0s 3ms/step - loss: 3.7134e-04\n",
      "Epoch 87/200\n",
      "85/85 [==============================] - 0s 3ms/step - loss: 2.9233e-04\n",
      "Epoch 88/200\n",
      "85/85 [==============================] - 0s 3ms/step - loss: 2.9257e-04\n",
      "Epoch 89/200\n",
      "85/85 [==============================] - 0s 3ms/step - loss: 3.0585e-04\n",
      "Epoch 90/200\n",
      "85/85 [==============================] - 0s 3ms/step - loss: 4.0884e-04\n",
      "Epoch 91/200\n",
      "85/85 [==============================] - 0s 3ms/step - loss: 3.1235e-04\n",
      "Epoch 92/200\n",
      "85/85 [==============================] - 0s 4ms/step - loss: 3.6511e-04\n",
      "Epoch 93/200\n",
      "85/85 [==============================] - 0s 3ms/step - loss: 3.6546e-04\n",
      "Epoch 94/200\n",
      "85/85 [==============================] - 0s 3ms/step - loss: 4.0852e-04\n",
      "Epoch 95/200\n",
      "85/85 [==============================] - 0s 3ms/step - loss: 4.5551e-04\n",
      "Epoch 96/200\n",
      "85/85 [==============================] - 0s 3ms/step - loss: 4.0931e-04\n",
      "Epoch 97/200\n",
      "85/85 [==============================] - 0s 3ms/step - loss: 3.6496e-04\n",
      "Epoch 98/200\n",
      "85/85 [==============================] - 0s 3ms/step - loss: 4.7029e-04\n",
      "Epoch 99/200\n",
      "85/85 [==============================] - 0s 3ms/step - loss: 4.0764e-04\n",
      "Epoch 100/200\n",
      "85/85 [==============================] - 0s 3ms/step - loss: 4.4263e-04\n",
      "Epoch 101/200\n",
      "85/85 [==============================] - 0s 3ms/step - loss: 3.3767e-04\n",
      "Epoch 102/200\n",
      "85/85 [==============================] - 0s 3ms/step - loss: 3.1133e-04\n",
      "Epoch 103/200\n",
      "85/85 [==============================] - 0s 3ms/step - loss: 3.2908e-04\n",
      "Epoch 104/200\n",
      "85/85 [==============================] - 0s 3ms/step - loss: 3.3958e-04\n",
      "Epoch 105/200\n",
      "85/85 [==============================] - 0s 3ms/step - loss: 3.3624e-04\n",
      "Epoch 106/200\n",
      "85/85 [==============================] - 0s 3ms/step - loss: 4.0232e-04\n",
      "Epoch 107/200\n",
      "85/85 [==============================] - 0s 3ms/step - loss: 3.0067e-04\n",
      "Epoch 108/200\n",
      "85/85 [==============================] - 0s 3ms/step - loss: 2.8970e-04\n",
      "Epoch 109/200\n",
      "85/85 [==============================] - 0s 3ms/step - loss: 2.4941e-04\n",
      "Epoch 110/200\n",
      "85/85 [==============================] - 0s 3ms/step - loss: 3.2475e-04\n",
      "Epoch 111/200\n",
      "85/85 [==============================] - 0s 3ms/step - loss: 4.1114e-04\n",
      "Epoch 112/200\n",
      "85/85 [==============================] - 0s 3ms/step - loss: 2.6122e-04\n",
      "Epoch 113/200\n",
      "85/85 [==============================] - 0s 3ms/step - loss: 2.9868e-04\n",
      "Epoch 114/200\n",
      "85/85 [==============================] - 0s 3ms/step - loss: 3.2315e-04\n",
      "Epoch 115/200\n",
      "85/85 [==============================] - 0s 3ms/step - loss: 2.9302e-04\n",
      "Epoch 116/200\n",
      "85/85 [==============================] - 0s 3ms/step - loss: 3.2935e-04\n",
      "Epoch 117/200\n",
      "85/85 [==============================] - 0s 3ms/step - loss: 2.8617e-04\n",
      "Epoch 118/200\n",
      "85/85 [==============================] - 0s 3ms/step - loss: 3.9044e-04\n",
      "Epoch 119/200\n",
      "85/85 [==============================] - 0s 3ms/step - loss: 3.0412e-04\n",
      "Epoch 120/200\n",
      "85/85 [==============================] - 0s 3ms/step - loss: 3.2866e-04\n",
      "Epoch 121/200\n",
      "85/85 [==============================] - 0s 3ms/step - loss: 2.9773e-04\n",
      "Epoch 122/200\n",
      "85/85 [==============================] - 0s 3ms/step - loss: 2.9249e-04\n",
      "Epoch 123/200\n",
      "85/85 [==============================] - 0s 3ms/step - loss: 2.7292e-04\n",
      "Epoch 124/200\n",
      "85/85 [==============================] - 0s 3ms/step - loss: 3.1703e-04\n",
      "Epoch 125/200\n",
      "85/85 [==============================] - 0s 3ms/step - loss: 3.0955e-04\n",
      "Epoch 126/200\n",
      "85/85 [==============================] - 0s 3ms/step - loss: 2.8125e-04\n",
      "Epoch 127/200\n",
      "85/85 [==============================] - 0s 3ms/step - loss: 3.1242e-04\n",
      "Epoch 128/200\n",
      "85/85 [==============================] - 0s 3ms/step - loss: 3.0413e-04\n",
      "Epoch 129/200\n",
      "85/85 [==============================] - 0s 3ms/step - loss: 3.1243e-04\n",
      "Epoch 130/200\n",
      "85/85 [==============================] - 0s 3ms/step - loss: 3.0427e-04\n",
      "Epoch 131/200\n",
      "85/85 [==============================] - 0s 3ms/step - loss: 2.9378e-04\n",
      "Epoch 132/200\n",
      "85/85 [==============================] - 0s 3ms/step - loss: 2.9615e-04\n",
      "Epoch 133/200\n",
      "85/85 [==============================] - 0s 3ms/step - loss: 3.9473e-04\n",
      "Epoch 134/200\n",
      "85/85 [==============================] - 0s 3ms/step - loss: 3.6394e-04\n",
      "Epoch 135/200\n",
      "85/85 [==============================] - 0s 3ms/step - loss: 2.9986e-04\n",
      "Epoch 136/200\n",
      "85/85 [==============================] - 0s 3ms/step - loss: 2.9551e-04\n",
      "Epoch 137/200\n",
      "85/85 [==============================] - 0s 3ms/step - loss: 3.0191e-04\n",
      "Epoch 138/200\n",
      "85/85 [==============================] - 0s 3ms/step - loss: 3.0272e-04\n",
      "Epoch 139/200\n",
      "85/85 [==============================] - 0s 3ms/step - loss: 3.5355e-04\n",
      "Epoch 140/200\n",
      "85/85 [==============================] - 0s 3ms/step - loss: 2.9035e-04\n",
      "Epoch 141/200\n",
      "85/85 [==============================] - 0s 3ms/step - loss: 2.8753e-04\n",
      "Epoch 142/200\n",
      "85/85 [==============================] - 0s 3ms/step - loss: 3.5091e-04\n",
      "Epoch 143/200\n",
      "85/85 [==============================] - 0s 3ms/step - loss: 2.6459e-04\n",
      "Epoch 144/200\n",
      "85/85 [==============================] - 0s 3ms/step - loss: 3.1407e-04\n",
      "Epoch 145/200\n",
      "85/85 [==============================] - 0s 3ms/step - loss: 3.0917e-04\n",
      "Epoch 146/200\n",
      "85/85 [==============================] - 0s 3ms/step - loss: 3.3522e-04\n",
      "Epoch 147/200\n",
      "85/85 [==============================] - 0s 3ms/step - loss: 2.8819e-04\n",
      "Epoch 148/200\n",
      "85/85 [==============================] - 0s 3ms/step - loss: 2.7837e-04\n",
      "Epoch 149/200\n",
      "85/85 [==============================] - 0s 3ms/step - loss: 2.6143e-04\n",
      "Epoch 150/200\n",
      "85/85 [==============================] - 0s 3ms/step - loss: 2.7355e-04\n",
      "Epoch 151/200\n",
      "85/85 [==============================] - 0s 3ms/step - loss: 2.7250e-04\n",
      "Epoch 152/200\n",
      "85/85 [==============================] - 0s 3ms/step - loss: 3.2970e-04\n",
      "Epoch 153/200\n",
      "85/85 [==============================] - 0s 3ms/step - loss: 2.6603e-04\n",
      "Epoch 154/200\n",
      "85/85 [==============================] - 0s 3ms/step - loss: 3.1118e-04\n",
      "Epoch 155/200\n",
      "85/85 [==============================] - 0s 3ms/step - loss: 4.0571e-04\n",
      "Epoch 156/200\n",
      "85/85 [==============================] - 0s 3ms/step - loss: 4.0680e-04\n",
      "Epoch 157/200\n",
      "85/85 [==============================] - 0s 3ms/step - loss: 3.2886e-04\n",
      "Epoch 158/200\n",
      "85/85 [==============================] - 0s 3ms/step - loss: 2.7390e-04\n",
      "Epoch 159/200\n",
      "85/85 [==============================] - 0s 3ms/step - loss: 3.8874e-04\n",
      "Epoch 160/200\n",
      "85/85 [==============================] - 0s 3ms/step - loss: 3.5957e-04\n",
      "Epoch 161/200\n",
      "85/85 [==============================] - 0s 3ms/step - loss: 2.7149e-04\n",
      "Epoch 162/200\n",
      "85/85 [==============================] - 0s 3ms/step - loss: 2.5051e-04\n",
      "Epoch 163/200\n",
      "85/85 [==============================] - 0s 3ms/step - loss: 2.8678e-04\n",
      "Epoch 164/200\n",
      "85/85 [==============================] - 0s 3ms/step - loss: 2.8284e-04\n",
      "Epoch 165/200\n",
      "85/85 [==============================] - 0s 3ms/step - loss: 2.7608e-04\n",
      "Epoch 166/200\n",
      "85/85 [==============================] - 0s 3ms/step - loss: 3.0614e-04\n",
      "Epoch 167/200\n",
      "85/85 [==============================] - 0s 3ms/step - loss: 2.7204e-04\n",
      "Epoch 168/200\n",
      "85/85 [==============================] - 0s 3ms/step - loss: 2.7431e-04\n",
      "Epoch 169/200\n",
      "85/85 [==============================] - 0s 3ms/step - loss: 3.0274e-04\n",
      "Epoch 170/200\n",
      "85/85 [==============================] - 0s 3ms/step - loss: 2.4493e-04\n",
      "Epoch 171/200\n",
      "85/85 [==============================] - 0s 3ms/step - loss: 3.3932e-04\n",
      "Epoch 172/200\n",
      "85/85 [==============================] - 0s 3ms/step - loss: 2.6441e-04\n",
      "Epoch 173/200\n",
      "85/85 [==============================] - 0s 3ms/step - loss: 2.7994e-04\n",
      "Epoch 174/200\n",
      "85/85 [==============================] - 0s 3ms/step - loss: 2.8604e-04\n",
      "Epoch 175/200\n",
      "85/85 [==============================] - 0s 3ms/step - loss: 2.9059e-04\n",
      "Epoch 176/200\n",
      "85/85 [==============================] - 0s 3ms/step - loss: 2.4945e-04\n",
      "Epoch 177/200\n",
      "85/85 [==============================] - 0s 3ms/step - loss: 3.8212e-04\n",
      "Epoch 178/200\n",
      "85/85 [==============================] - 0s 3ms/step - loss: 2.6233e-04\n",
      "Epoch 179/200\n",
      "85/85 [==============================] - 0s 3ms/step - loss: 2.5273e-04\n",
      "Epoch 180/200\n",
      "85/85 [==============================] - 0s 3ms/step - loss: 2.7019e-04\n",
      "Epoch 181/200\n",
      "85/85 [==============================] - 0s 3ms/step - loss: 2.7137e-04\n",
      "Epoch 182/200\n",
      "85/85 [==============================] - 0s 3ms/step - loss: 2.7559e-04\n",
      "Epoch 183/200\n",
      "85/85 [==============================] - 0s 3ms/step - loss: 2.4585e-04\n",
      "Epoch 184/200\n",
      "85/85 [==============================] - 0s 3ms/step - loss: 2.5289e-04\n",
      "Epoch 185/200\n",
      "85/85 [==============================] - 0s 3ms/step - loss: 3.0789e-04\n",
      "Epoch 186/200\n",
      "85/85 [==============================] - 0s 3ms/step - loss: 2.3909e-04\n",
      "Epoch 187/200\n",
      "85/85 [==============================] - 0s 3ms/step - loss: 2.6719e-04\n",
      "Epoch 188/200\n",
      "85/85 [==============================] - 0s 3ms/step - loss: 2.9549e-04\n",
      "Epoch 189/200\n",
      "85/85 [==============================] - 0s 3ms/step - loss: 2.5454e-04\n",
      "Epoch 190/200\n",
      "85/85 [==============================] - 0s 3ms/step - loss: 2.8374e-04\n",
      "Epoch 191/200\n",
      "85/85 [==============================] - 0s 3ms/step - loss: 2.7218e-04\n",
      "Epoch 192/200\n",
      "85/85 [==============================] - 0s 3ms/step - loss: 2.9594e-04\n",
      "Epoch 193/200\n",
      "85/85 [==============================] - 0s 3ms/step - loss: 2.7467e-04\n",
      "Epoch 194/200\n",
      "85/85 [==============================] - 0s 3ms/step - loss: 2.5628e-04\n",
      "Epoch 195/200\n",
      "85/85 [==============================] - 0s 3ms/step - loss: 2.4373e-04\n",
      "Epoch 196/200\n",
      "85/85 [==============================] - 0s 3ms/step - loss: 2.6472e-04\n",
      "Epoch 197/200\n",
      "85/85 [==============================] - 0s 3ms/step - loss: 3.4727e-04\n",
      "Epoch 198/200\n",
      "85/85 [==============================] - 0s 3ms/step - loss: 2.5805e-04\n",
      "Epoch 199/200\n",
      "85/85 [==============================] - 0s 3ms/step - loss: 2.8524e-04\n",
      "Epoch 200/200\n",
      "85/85 [==============================] - 0s 3ms/step - loss: 2.4112e-04\n"
     ]
    },
    {
     "data": {
      "text/plain": [
       "<tensorflow.python.keras.callbacks.History at 0x7f22600da210>"
      ]
     },
     "execution_count": 24,
     "metadata": {
      "tags": []
     },
     "output_type": "execute_result"
    }
   ],
   "source": [
    "model_CNN = Sequential()\n",
    "model_CNN.add(Conv1D(filters=128, kernel_size=2, activation='relu', input_shape=(X_train.shape[1],1)))\n",
    "model_CNN.add(Conv1D(filters=128, kernel_size=2, activation='relu'))\n",
    "model_CNN.add(Conv1D(filters=128, kernel_size=2, activation='relu'))\n",
    "model_CNN.add(MaxPooling1D(pool_size=2))\n",
    "model_CNN.add(Flatten())\n",
    "model_CNN.add(Dense(100, activation='relu'))\n",
    "model_CNN.add(Dense(1))\n",
    "model_CNN.compile(optimizer='adam', loss='mse')\n",
    "\n",
    "model_CNN.fit(X_train, y_train, epochs=200)"
   ]
  },
  {
   "cell_type": "code",
   "execution_count": 25,
   "metadata": {
    "id": "ZAptG7gbuJku"
   },
   "outputs": [],
   "source": [
    "X_test = []\n",
    "for i in range(60,311):\n",
    "    X_test.append(inputs[i-60:i,0])\n",
    "X_test = np.array(X_test)\n",
    "X_test = np.reshape(X_test, (X_test.shape[0],X_test.shape[1],1))\n",
    "predictions_CNN = model_CNN.predict(X_test)\n",
    "predictions_CNN = sc.inverse_transform(predictions_CNN)"
   ]
  },
  {
   "cell_type": "code",
   "execution_count": 26,
   "metadata": {
    "colab": {
     "base_uri": "https://localhost:8080/",
     "height": 295
    },
    "id": "J40akdQ9uJkv",
    "outputId": "9a945d0f-8a67-49ce-de78-9cd38cccf76f"
   },
   "outputs": [
    {
     "data": {
      "image/png": "[encoded data removed]",
      "text/plain": [
       "<Figure size 432x288 with 1 Axes>"
      ]
     },
     "metadata": {
      "needs_background": "light",
      "tags": []
     },
     "output_type": "display_data"
    }
   ],
   "source": [
    "plot_predictions(test,predictions_CNN)"
   ]
  },
  {
   "cell_type": "code",
   "execution_count": 27,
   "metadata": {
    "colab": {
     "base_uri": "https://localhost:8080/"
    },
    "id": "VjsAwXyuuJkw",
    "outputId": "f316bbc3-c13c-4534-8a60-3b71fdfffed6"
   },
   "outputs": [
    {
     "data": {
      "text/plain": [
       "6.783063426860406"
      ]
     },
     "execution_count": 27,
     "metadata": {
      "tags": []
     },
     "output_type": "execute_result"
    }
   ],
   "source": [
    "mse_CNN = mse(test,predictions_CNN)\n",
    "mse_CNN"
   ]
  },
  {
   "cell_type": "code",
   "execution_count": 28,
   "metadata": {
    "colab": {
     "base_uri": "https://localhost:8080/"
    },
    "id": "xFbGsAtGuJkw",
    "outputId": "275a5094-52af-4a39-e3d3-6f56c58aad06"
   },
   "outputs": [
    {
     "data": {
      "text/plain": [
       "1.1384136424467055"
      ]
     },
     "execution_count": 28,
     "metadata": {
      "tags": []
     },
     "output_type": "execute_result"
    }
   ],
   "source": [
    "mape_CNN = mape(test,predictions_CNN)\n",
    "mape_CNN"
   ]
  },
  {
   "cell_type": "markdown",
   "metadata": {
    "id": "XZO-QAjvzVRb"
   },
   "source": [
    "# Результаты"
   ]
  },
  {
   "cell_type": "code",
   "execution_count": 29,
   "metadata": {
    "colab": {
     "base_uri": "https://localhost:8080/",
     "height": 138
    },
    "id": "sQi_u95PuJky",
    "outputId": "60e12cbe-3471-4151-958d-e483c4ff43b3"
   },
   "outputs": [
    {
     "data": {
      "text/html": [
       "<div>\n",
       "<style scoped>\n",
       "    .dataframe tbody tr th:only-of-type {\n",
       "        vertical-align: middle;\n",
       "    }\n",
       "\n",
       "    .dataframe tbody tr th {\n",
       "        vertical-align: top;\n",
       "    }\n",
       "\n",
       "    .dataframe thead th {\n",
       "        text-align: right;\n",
       "    }\n",
       "</style>\n",
       "<table border=\"1\" class=\"dataframe\">\n",
       "  <thead>\n",
       "    <tr style=\"text-align: right;\">\n",
       "      <th></th>\n",
       "      <th>MSE</th>\n",
       "      <th>MAPE</th>\n",
       "    </tr>\n",
       "  </thead>\n",
       "  <tbody>\n",
       "    <tr>\n",
       "      <th>LSTM</th>\n",
       "      <td>5.6747</td>\n",
       "      <td>0.9921</td>\n",
       "    </tr>\n",
       "    <tr>\n",
       "      <th>GRU</th>\n",
       "      <td>10.6143</td>\n",
       "      <td>1.4152</td>\n",
       "    </tr>\n",
       "    <tr>\n",
       "      <th>CNN</th>\n",
       "      <td>6.7831</td>\n",
       "      <td>1.1384</td>\n",
       "    </tr>\n",
       "  </tbody>\n",
       "</table>\n",
       "</div>"
      ],
      "text/plain": [
       "          MSE    MAPE\n",
       "LSTM   5.6747  0.9921\n",
       "GRU   10.6143  1.4152\n",
       "CNN    6.7831  1.1384"
      ]
     },
     "execution_count": 29,
     "metadata": {
      "tags": []
     },
     "output_type": "execute_result"
    }
   ],
   "source": [
    "MSE = [mse_LSTM, mse_GRU, mse_CNN]\n",
    "MAPE = [mape_LSTM, mape_GRU, mape_CNN]\n",
    "MSE = [round(i,4) for i in MSE]\n",
    "MAPE = [round(i,4) for i in MAPE]\n",
    "Model = ['LSTM','GRU','CNN']\n",
    "new_models_dataframe2=pd.DataFrame({'MSE':MSE,'MAPE':MAPE},index=Model)       \n",
    "new_models_dataframe2"
   ]
  },
  {
   "cell_type": "code",
   "execution_count": 29,
   "metadata": {
    "id": "8s1HxtaE2gZS"
   },
   "outputs": [],
   "source": []
  }
 ],
 "metadata": {
  "accelerator": "GPU",
  "colab": {
   "name": "Neural_Networks_TS.ipynb",
   "provenance": []
  },
  "kernelspec": {
   "display_name": "Python 3",
   "language": "python",
   "name": "python3"
  },
  "language_info": {
   "codemirror_mode": {
    "name": "ipython",
    "version": 3
   },
   "file_extension": ".py",
   "mimetype": "text/x-python",
   "name": "python",
   "nbconvert_exporter": "python",
   "pygments_lexer": "ipython3",
   "version": "3.8.3"
  }
 },
 "nbformat": 4,
 "nbformat_minor": 1
}
